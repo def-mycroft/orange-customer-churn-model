{
 "cells": [
  {
   "cell_type": "code",
   "execution_count": 1,
   "id": "b4417523-b962-44f1-94cb-255a8c5ec6f9",
   "metadata": {},
   "outputs": [
    {
     "name": "stderr",
     "output_type": "stream",
     "text": [
      "\u001b[32m2024-09-05 06:46:11.426\u001b[0m | \u001b[1mINFO    \u001b[0m | \u001b[36mzero_churn_model.config\u001b[0m:\u001b[36m<module>\u001b[0m:\u001b[36m11\u001b[0m - \u001b[1mPROJ_ROOT path is: /home/zero/code-repos/zero_churn_model\u001b[0m\n"
     ]
    }
   ],
   "source": [
    "from zero_churn_model.imports import * # basic imports\n",
    "from zero_churn_model import helpers as hp\n",
    "from tqdm import tqdm\n",
    "from time import time \n",
    "from sklearn.preprocessing import OneHotEncoder\n",
    "from sklearn.compose import ColumnTransformer"
   ]
  },
  {
   "cell_type": "markdown",
   "id": "49d4ddc1-2edc-4a1a-83ae-d3e6e4f60e6d",
   "metadata": {},
   "source": [
    "# Dataset Description"
   ]
  },
  {
   "cell_type": "markdown",
   "id": "b2f13177-fdbb-4418-86af-fd651401f8e5",
   "metadata": {},
   "source": [
    "\n",
    "[link here](https://www.openml.org/search?type=data&sort=runs&status=active&qualities.NumberOfInstances=between_10000_100000&qualities.NumberOfFeatures=between_100_1000&id=42758)\n",
    "\n",
    "**Description**\n",
    "\n",
    "This is the full version of the KDD Cup 2009 dataset\n",
    "\n",
    "This Year's Challenge\n",
    "\n",
    "Customer Relationship Management (CRM) is a key element of modern marketing strategies. The KDD Cup 2009 offers the opportunity to work on large marketing databases from the French Telecom company Orange to predict the propensity of customers to switch provider (churn), buy new products or services (appetency), or buy upgrades or add-ons proposed to them to make the sale more profitable (up-selling).\n",
    "\n",
    "The most practical way, in a CRM system, to build knowledge on customer is to produce scores. A score (the output of a model) is an evaluation for all instances of a target variable to explain (i.e. churn, appetency or up-selling). Tools which produce scores allow to project, on a given population, quantifiable information. The score is computed using input variables which describe instances. Scores are then used by the information system (IS), for example, to personalize the customer relationship. An industrial customer analysis platform able to build prediction models with a very large number of input variables has been developed by Orange Labs. This platform implements several processing methods for instances and variables selection, prediction and indexation based on an efficient model combined with variable selection regularization and model averaging method. The main characteristic of this platform is its ability to scale on very large datasets with hundreds of thousands of instances and thousands of variables. The rapid and robust detection of the variables that have most contributed to the output prediction can be a key factor in a marketing application.\n",
    "\n",
    "The challenge is to beat the in-house system developed by Orange Labs. It is an opportunity to prove that you can deal with a very large database, including heterogeneous noisy data (numerical and categorical variables), and unbalanced class distributions. Time efficiency is often a crucial point. Therefore part of the competition will be time-constrained to test the ability of the participants to deliver solutions quickly.\n",
    "\n",
    "Task Description\n",
    "\n",
    "The task is to estimate the churn, appetency and up-selling probability of customers, hence there are three target values to be predicted. The challenge is staged in phases to test the rapidity with which each team is able to produce results. A large number of variables (15,000) is made available for prediction. However, to engage participants having access to less computing power, a smaller version of the dataset with only 230 variables will be made available in the second part of the challenge.\n",
    "\n",
    "Churn (wikipedia definition): Churn rate is also sometimes called attrition rate. It is one of two primary factors that determine the steady-state level of customers a business will support. In its broadest sense, churn rate is a measure of the number of individuals or items moving into or out of a collection over a specific period of time. The term is used in many contexts, but is most widely applied in business with respect to a contractual customer base. For instance, it is an important factor for any business with a subscriber-based service model, including mobile telephone networks and pay TV operators. The term is also used to refer to participant turnover in peer-to-peer networks.\n",
    "\n",
    "Appetency: In our context, the appetency is the propensity to buy a service or a product.\n",
    "\n",
    "Up-selling (wikipedia definition): Up-selling is a sales technique whereby a salesman attempts to have the customer purchase more expensive items, upgrades, or other add-ons in an attempt to make a more profitable sale. Up-selling usually involves marketing more profitable services or products, but up-selling can also be simply exposing the customer to other options he or she may not have considered previously. Up-selling can imply selling something additional, or selling something that is more profitable or otherwise preferable for the seller instead of the original sale.\n",
    "\n",
    "The training set contains 50,000 examples. The first predictive 14,740 variables are numerical and the last 260 predictive variables are categorical. The last target variable is binary (-1,1).\n"
   ]
  },
  {
   "cell_type": "markdown",
   "id": "e9955b35-d126-4ba7-b1ee-fe716ee5f482",
   "metadata": {},
   "source": [
    "# Load Base Data"
   ]
  },
  {
   "cell_type": "code",
   "execution_count": 2,
   "id": "2fbecf3a-f88c-43d9-829b-520280df3be9",
   "metadata": {},
   "outputs": [
    {
     "name": "stdout",
     "output_type": "stream",
     "text": [
      "(50000, 15001)\n"
     ]
    },
    {
     "data": {
      "text/html": [
       "<div>\n",
       "<style scoped>\n",
       "    .dataframe tbody tr th:only-of-type {\n",
       "        vertical-align: middle;\n",
       "    }\n",
       "\n",
       "    .dataframe tbody tr th {\n",
       "        vertical-align: top;\n",
       "    }\n",
       "\n",
       "    .dataframe thead th {\n",
       "        text-align: right;\n",
       "    }\n",
       "</style>\n",
       "<table border=\"1\" class=\"dataframe\">\n",
       "  <thead>\n",
       "    <tr style=\"text-align: right;\">\n",
       "      <th></th>\n",
       "      <th>churn</th>\n",
       "      <th>var1</th>\n",
       "      <th>var2</th>\n",
       "      <th>var3</th>\n",
       "      <th>var4</th>\n",
       "      <th>var5</th>\n",
       "      <th>var6</th>\n",
       "      <th>var7</th>\n",
       "      <th>var8</th>\n",
       "      <th>var9</th>\n",
       "      <th>...</th>\n",
       "      <th>var14991</th>\n",
       "      <th>var14992</th>\n",
       "      <th>var14993</th>\n",
       "      <th>var14994</th>\n",
       "      <th>var14995</th>\n",
       "      <th>var14996</th>\n",
       "      <th>var14997</th>\n",
       "      <th>var14998</th>\n",
       "      <th>var14999</th>\n",
       "      <th>var15000</th>\n",
       "    </tr>\n",
       "  </thead>\n",
       "  <tbody>\n",
       "    <tr>\n",
       "      <th>38746</th>\n",
       "      <td>-1</td>\n",
       "      <td>0</td>\n",
       "      <td>0</td>\n",
       "      <td>0</td>\n",
       "      <td>0</td>\n",
       "      <td>0</td>\n",
       "      <td>0</td>\n",
       "      <td>0.0</td>\n",
       "      <td>0</td>\n",
       "      <td>0</td>\n",
       "      <td>...</td>\n",
       "      <td>?</td>\n",
       "      <td>?</td>\n",
       "      <td>Xrtjuqe</td>\n",
       "      <td>?</td>\n",
       "      <td>Q8_a</td>\n",
       "      <td>NBRvrWWx0Z</td>\n",
       "      <td>?</td>\n",
       "      <td>?</td>\n",
       "      <td>?</td>\n",
       "      <td>?</td>\n",
       "    </tr>\n",
       "    <tr>\n",
       "      <th>43011</th>\n",
       "      <td>-1</td>\n",
       "      <td>0</td>\n",
       "      <td>0</td>\n",
       "      <td>0</td>\n",
       "      <td>0</td>\n",
       "      <td>0</td>\n",
       "      <td>0</td>\n",
       "      <td>0.0</td>\n",
       "      <td>0</td>\n",
       "      <td>0</td>\n",
       "      <td>...</td>\n",
       "      <td>?</td>\n",
       "      <td>?</td>\n",
       "      <td>UDcUF98</td>\n",
       "      <td>?</td>\n",
       "      <td>Q8_a</td>\n",
       "      <td>NBRvrWWx0Z</td>\n",
       "      <td>?</td>\n",
       "      <td>?</td>\n",
       "      <td>?</td>\n",
       "      <td>?</td>\n",
       "    </tr>\n",
       "    <tr>\n",
       "      <th>39302</th>\n",
       "      <td>-1</td>\n",
       "      <td>0</td>\n",
       "      <td>0</td>\n",
       "      <td>0</td>\n",
       "      <td>0</td>\n",
       "      <td>0</td>\n",
       "      <td>0</td>\n",
       "      <td>0.0</td>\n",
       "      <td>0</td>\n",
       "      <td>0</td>\n",
       "      <td>...</td>\n",
       "      <td>?</td>\n",
       "      <td>?</td>\n",
       "      <td>wBBk8_4</td>\n",
       "      <td>?</td>\n",
       "      <td>KttQ</td>\n",
       "      <td>?</td>\n",
       "      <td>?</td>\n",
       "      <td>?</td>\n",
       "      <td>?</td>\n",
       "      <td>?</td>\n",
       "    </tr>\n",
       "    <tr>\n",
       "      <th>3409</th>\n",
       "      <td>-1</td>\n",
       "      <td>0</td>\n",
       "      <td>0</td>\n",
       "      <td>0</td>\n",
       "      <td>0</td>\n",
       "      <td>0</td>\n",
       "      <td>0</td>\n",
       "      <td>0.0</td>\n",
       "      <td>0</td>\n",
       "      <td>0</td>\n",
       "      <td>...</td>\n",
       "      <td>?</td>\n",
       "      <td>?</td>\n",
       "      <td>5i0Tzi7</td>\n",
       "      <td>?</td>\n",
       "      <td>Q8_a</td>\n",
       "      <td>NBRvrWWx0Z</td>\n",
       "      <td>?</td>\n",
       "      <td>vjl9npDZWXYGFIGZ</td>\n",
       "      <td>?</td>\n",
       "      <td>?</td>\n",
       "    </tr>\n",
       "    <tr>\n",
       "      <th>30060</th>\n",
       "      <td>-1</td>\n",
       "      <td>0</td>\n",
       "      <td>0</td>\n",
       "      <td>0</td>\n",
       "      <td>0</td>\n",
       "      <td>6</td>\n",
       "      <td>0</td>\n",
       "      <td>0.0</td>\n",
       "      <td>0</td>\n",
       "      <td>0</td>\n",
       "      <td>...</td>\n",
       "      <td>?</td>\n",
       "      <td>?</td>\n",
       "      <td>iMHYkhP</td>\n",
       "      <td>?</td>\n",
       "      <td>KttQ</td>\n",
       "      <td>NBRvrWWx0Z</td>\n",
       "      <td>?</td>\n",
       "      <td>?</td>\n",
       "      <td>?</td>\n",
       "      <td>?</td>\n",
       "    </tr>\n",
       "  </tbody>\n",
       "</table>\n",
       "<p>5 rows × 15001 columns</p>\n",
       "</div>"
      ],
      "text/plain": [
       "      churn var1 var2 var3 var4 var5 var6 var7 var8 var9  ... var14991  \\\n",
       "38746    -1    0    0    0    0    0    0  0.0    0    0  ...        ?   \n",
       "43011    -1    0    0    0    0    0    0  0.0    0    0  ...        ?   \n",
       "39302    -1    0    0    0    0    0    0  0.0    0    0  ...        ?   \n",
       "3409     -1    0    0    0    0    0    0  0.0    0    0  ...        ?   \n",
       "30060    -1    0    0    0    0    6    0  0.0    0    0  ...        ?   \n",
       "\n",
       "      var14992 var14993 var14994 var14995    var14996 var14997  \\\n",
       "38746        ?  Xrtjuqe        ?     Q8_a  NBRvrWWx0Z        ?   \n",
       "43011        ?  UDcUF98        ?     Q8_a  NBRvrWWx0Z        ?   \n",
       "39302        ?  wBBk8_4        ?     KttQ           ?        ?   \n",
       "3409         ?  5i0Tzi7        ?     Q8_a  NBRvrWWx0Z        ?   \n",
       "30060        ?  iMHYkhP        ?     KttQ  NBRvrWWx0Z        ?   \n",
       "\n",
       "               var14998 var14999 var15000  \n",
       "38746                 ?        ?        ?  \n",
       "43011                 ?        ?        ?  \n",
       "39302                 ?        ?        ?  \n",
       "3409   vjl9npDZWXYGFIGZ        ?        ?  \n",
       "30060                 ?        ?        ?  \n",
       "\n",
       "[5 rows x 15001 columns]"
      ]
     },
     "execution_count": 2,
     "metadata": {},
     "output_type": "execute_result"
    }
   ],
   "source": [
    "fp = '../data/raw/kddcup09-orange-telcom-data.parquet'\n",
    "\n",
    "# load base data and create a copy of it for \n",
    "df = pd.read_parquet(fp)\n",
    "\n",
    "df.columns = [x.lower() for x in df.columns]\n",
    "df = df[['churn'] + [x for x in df.columns if x != 'churn']]\n",
    "print(df.shape)\n",
    "df.sample(5)"
   ]
  },
  {
   "cell_type": "markdown",
   "id": "37a37f03-f86c-475b-8fed-6dafc5ab8e2f",
   "metadata": {},
   "source": [
    "# Drop Columns with One Unique Value"
   ]
  },
  {
   "cell_type": "markdown",
   "id": "f979dcea-36bd-45eb-b854-c199e31c904e",
   "metadata": {},
   "source": [
    "There are some columns which contain only the same value throughout the entire column:"
   ]
  },
  {
   "cell_type": "code",
   "execution_count": 3,
   "id": "fb0fd79a-1862-48a1-bed9-b3bb3c0cb9f8",
   "metadata": {},
   "outputs": [
    {
     "data": {
      "text/plain": [
       "1531"
      ]
     },
     "execution_count": 3,
     "metadata": {},
     "output_type": "execute_result"
    }
   ],
   "source": [
    "# create a list of columns that have only one unique value\n",
    "drop_cols = df.columns[df.nunique() == 1]\n",
    "len(drop_cols)"
   ]
  },
  {
   "cell_type": "markdown",
   "id": "c6894812-19d6-493a-bf25-f87422f461d7",
   "metadata": {},
   "source": [
    "...since these columns don't contain any information, we can drop them:"
   ]
  },
  {
   "cell_type": "code",
   "execution_count": 4,
   "id": "1173197c-b3d0-4584-a92a-cea28d8adf4a",
   "metadata": {},
   "outputs": [],
   "source": [
    "# drop columns that have only one unique value \n",
    "df = df.drop(columns=drop_cols)"
   ]
  },
  {
   "cell_type": "markdown",
   "id": "4c6ade60-07a8-41e1-936e-417ecd190e4e",
   "metadata": {},
   "source": [
    "# Replace \"?\" with Null"
   ]
  },
  {
   "cell_type": "markdown",
   "id": "b4c2d5a3-affd-4761-96e7-3ce528f6b972",
   "metadata": {},
   "source": [
    "Some columns have a mix of question marks and floats:"
   ]
  },
  {
   "cell_type": "code",
   "execution_count": 5,
   "id": "52927116-0c76-4be8-a523-3ea047b285f2",
   "metadata": {},
   "outputs": [
    {
     "data": {
      "text/plain": [
       "975    0.4\n",
       "976    0.4\n",
       "977    0.4\n",
       "978    0.4\n",
       "979    0.4\n",
       "980      ?\n",
       "981    0.4\n",
       "982    0.4\n",
       "983    0.4\n",
       "984      ?\n",
       "985    0.4\n",
       "Name: var1176, dtype: object"
      ]
     },
     "execution_count": 5,
     "metadata": {},
     "output_type": "execute_result"
    }
   ],
   "source": [
    "# show an example of a float column with ?\n",
    "df.loc[975:985, 'var1176']"
   ]
  },
  {
   "cell_type": "markdown",
   "id": "e270af67-2ccb-4af4-8d81-4070b106fcaf",
   "metadata": {},
   "source": [
    "We can treat these \"?\" values as null values:"
   ]
  },
  {
   "cell_type": "code",
   "execution_count": 6,
   "id": "ba80fb6d-ac09-4354-b427-9e1d3aeaff6c",
   "metadata": {},
   "outputs": [],
   "source": [
    "# replace \"?\" values in the dataframe with np.nan\n",
    "df = df.replace('?', np.nan)"
   ]
  },
  {
   "cell_type": "markdown",
   "id": "13bc43ed-5909-477d-ba4e-b800667e7bdf",
   "metadata": {},
   "source": [
    "# Set Data Types"
   ]
  },
  {
   "cell_type": "markdown",
   "id": "e72df2eb-97c0-4bd9-8406-f0a117b9d310",
   "metadata": {},
   "source": [
    "Now, note that we have only `object` dtypes:"
   ]
  },
  {
   "cell_type": "code",
   "execution_count": 7,
   "id": "c8a652e8-5d60-41fa-9224-d999a14e1028",
   "metadata": {},
   "outputs": [
    {
     "data": {
      "text/plain": [
       "Series([], dtype: object)"
      ]
     },
     "execution_count": 7,
     "metadata": {},
     "output_type": "execute_result"
    }
   ],
   "source": [
    "# print any columns that are not `object` dtypes (string)\n",
    "dt = df.dtypes\n",
    "dt[dt != 'object']"
   ]
  },
  {
   "cell_type": "markdown",
   "id": "1752d045-47b1-4690-ad5c-8616be50a074",
   "metadata": {},
   "source": [
    "We'll want to do some typecasting. According to the dataset documentation, \"the first predictive 14,740 variables are numerical and the last 260 predictive variables are categorical\", so we can use this to determine which columns are numerical:"
   ]
  },
  {
   "cell_type": "code",
   "execution_count": 8,
   "id": "b173c427-dbfc-44de-87ba-782bb5542595",
   "metadata": {},
   "outputs": [
    {
     "data": {
      "text/plain": [
       "2            var1\n",
       "3            var2\n",
       "4            var3\n",
       "5            var4\n",
       "6            var5\n",
       "           ...   \n",
       "14996    var14995\n",
       "14997    var14996\n",
       "14998    var14997\n",
       "14999    var14998\n",
       "15000    var14999\n",
       "Length: 13469, dtype: object"
      ]
     },
     "execution_count": 8,
     "metadata": {},
     "output_type": "execute_result"
    }
   ],
   "source": [
    "colmap = dict([(int(x.replace('var', ''))+1, x) for x in df.columns if x != 'churn'])\n",
    "int_cols = pd.Series(colmap)\n",
    "int_cols"
   ]
  },
  {
   "cell_type": "markdown",
   "id": "6129c88f-a9ff-4d0c-8618-3b7d0ddfe01a",
   "metadata": {},
   "source": [
    "I have a function `sample_dataframe` which samples both rows and columns:"
   ]
  },
  {
   "cell_type": "code",
   "execution_count": 9,
   "id": "f56de53f-5081-4238-8811-1a21a41bdebf",
   "metadata": {},
   "outputs": [
    {
     "data": {
      "text/markdown": [
       "```python\n",
       "def sample_dataframe(df, nrows=1000, ncols=1000):\n",
       "    \"\"\"Create a smaller dataframe for initial testing\"\"\"\n",
       "    # create a copy for temporary testing\n",
       "    sl = df.T.sample(ncols).T.sample(nrows).copy()\n",
       "\n",
       "    return sl\n",
       "\n",
       "```"
      ],
      "text/plain": [
       "<IPython.core.display.Markdown object>"
      ]
     },
     "metadata": {},
     "output_type": "display_data"
    }
   ],
   "source": [
    "hp.display_source(hp.sample_dataframe)"
   ]
  },
  {
   "cell_type": "markdown",
   "id": "2a970f65-033a-40b7-82d2-e9c6c1ac1223",
   "metadata": {},
   "source": [
    "Columns with values greater than 14,740 should be string columns:"
   ]
  },
  {
   "cell_type": "code",
   "execution_count": 10,
   "id": "f443c150-aaf8-4618-9dce-778997b81cb7",
   "metadata": {},
   "outputs": [
    {
     "data": {
      "text/html": [
       "<div>\n",
       "<style scoped>\n",
       "    .dataframe tbody tr th:only-of-type {\n",
       "        vertical-align: middle;\n",
       "    }\n",
       "\n",
       "    .dataframe tbody tr th {\n",
       "        vertical-align: top;\n",
       "    }\n",
       "\n",
       "    .dataframe thead th {\n",
       "        text-align: right;\n",
       "    }\n",
       "</style>\n",
       "<table border=\"1\" class=\"dataframe\">\n",
       "  <thead>\n",
       "    <tr style=\"text-align: right;\">\n",
       "      <th></th>\n",
       "      <th>var14821</th>\n",
       "      <th>var14820</th>\n",
       "      <th>var14795</th>\n",
       "      <th>var14890</th>\n",
       "      <th>var14749</th>\n",
       "    </tr>\n",
       "  </thead>\n",
       "  <tbody>\n",
       "    <tr>\n",
       "      <th>13211</th>\n",
       "      <td>NaN</td>\n",
       "      <td>NaN</td>\n",
       "      <td>7Gj8onV</td>\n",
       "      <td>5eCd</td>\n",
       "      <td>NaN</td>\n",
       "    </tr>\n",
       "    <tr>\n",
       "      <th>23863</th>\n",
       "      <td>ubXf6EK</td>\n",
       "      <td>NaN</td>\n",
       "      <td>XACjxqt</td>\n",
       "      <td>5eCd</td>\n",
       "      <td>NaN</td>\n",
       "    </tr>\n",
       "    <tr>\n",
       "      <th>42344</th>\n",
       "      <td>ubXf6EK</td>\n",
       "      <td>NaN</td>\n",
       "      <td>xJFdzwf</td>\n",
       "      <td>5eCd</td>\n",
       "      <td>NaN</td>\n",
       "    </tr>\n",
       "    <tr>\n",
       "      <th>12593</th>\n",
       "      <td>ubXf6EK</td>\n",
       "      <td>NaN</td>\n",
       "      <td>XAC65c7</td>\n",
       "      <td>5eCd</td>\n",
       "      <td>NaN</td>\n",
       "    </tr>\n",
       "    <tr>\n",
       "      <th>26557</th>\n",
       "      <td>NaN</td>\n",
       "      <td>NaN</td>\n",
       "      <td>RXURMDY</td>\n",
       "      <td>zSxe</td>\n",
       "      <td>kLIf</td>\n",
       "    </tr>\n",
       "    <tr>\n",
       "      <th>44998</th>\n",
       "      <td>ubXf6EK</td>\n",
       "      <td>NaN</td>\n",
       "      <td>xJFjktZ</td>\n",
       "      <td>5eCd</td>\n",
       "      <td>NaN</td>\n",
       "    </tr>\n",
       "    <tr>\n",
       "      <th>21409</th>\n",
       "      <td>NaN</td>\n",
       "      <td>NaN</td>\n",
       "      <td>Udrwr9F</td>\n",
       "      <td>zSxe</td>\n",
       "      <td>NaN</td>\n",
       "    </tr>\n",
       "    <tr>\n",
       "      <th>34936</th>\n",
       "      <td>NaN</td>\n",
       "      <td>NaN</td>\n",
       "      <td>Udrwr9F</td>\n",
       "      <td>5eCd</td>\n",
       "      <td>NaN</td>\n",
       "    </tr>\n",
       "    <tr>\n",
       "      <th>17550</th>\n",
       "      <td>ubXf6EK</td>\n",
       "      <td>NaN</td>\n",
       "      <td>Gwc_fIH</td>\n",
       "      <td>5eCd</td>\n",
       "      <td>NaN</td>\n",
       "    </tr>\n",
       "    <tr>\n",
       "      <th>48722</th>\n",
       "      <td>ubXf6EK</td>\n",
       "      <td>NaN</td>\n",
       "      <td>7Gj8onV</td>\n",
       "      <td>5eCd</td>\n",
       "      <td>NaN</td>\n",
       "    </tr>\n",
       "    <tr>\n",
       "      <th>14994</th>\n",
       "      <td>ubXf6EK</td>\n",
       "      <td>NaN</td>\n",
       "      <td>Udrxow4</td>\n",
       "      <td>5eCd</td>\n",
       "      <td>NaN</td>\n",
       "    </tr>\n",
       "    <tr>\n",
       "      <th>4632</th>\n",
       "      <td>ubXf6EK</td>\n",
       "      <td>NaN</td>\n",
       "      <td>xJFdzwf</td>\n",
       "      <td>5eCd</td>\n",
       "      <td>NaN</td>\n",
       "    </tr>\n",
       "    <tr>\n",
       "      <th>4397</th>\n",
       "      <td>ubXf6EK</td>\n",
       "      <td>NaN</td>\n",
       "      <td>RXURMDY</td>\n",
       "      <td>5eCd</td>\n",
       "      <td>NaN</td>\n",
       "    </tr>\n",
       "    <tr>\n",
       "      <th>30905</th>\n",
       "      <td>NaN</td>\n",
       "      <td>NaN</td>\n",
       "      <td>UdrGNf4</td>\n",
       "      <td>5eCd</td>\n",
       "      <td>NaN</td>\n",
       "    </tr>\n",
       "    <tr>\n",
       "      <th>9410</th>\n",
       "      <td>NaN</td>\n",
       "      <td>NaN</td>\n",
       "      <td>Udrwr9F</td>\n",
       "      <td>zSxe</td>\n",
       "      <td>NaN</td>\n",
       "    </tr>\n",
       "  </tbody>\n",
       "</table>\n",
       "</div>"
      ],
      "text/plain": [
       "      var14821 var14820 var14795 var14890 var14749\n",
       "13211      NaN      NaN  7Gj8onV     5eCd      NaN\n",
       "23863  ubXf6EK      NaN  XACjxqt     5eCd      NaN\n",
       "42344  ubXf6EK      NaN  xJFdzwf     5eCd      NaN\n",
       "12593  ubXf6EK      NaN  XAC65c7     5eCd      NaN\n",
       "26557      NaN      NaN  RXURMDY     zSxe     kLIf\n",
       "44998  ubXf6EK      NaN  xJFjktZ     5eCd      NaN\n",
       "21409      NaN      NaN  Udrwr9F     zSxe      NaN\n",
       "34936      NaN      NaN  Udrwr9F     5eCd      NaN\n",
       "17550  ubXf6EK      NaN  Gwc_fIH     5eCd      NaN\n",
       "48722  ubXf6EK      NaN  7Gj8onV     5eCd      NaN\n",
       "14994  ubXf6EK      NaN  Udrxow4     5eCd      NaN\n",
       "4632   ubXf6EK      NaN  xJFdzwf     5eCd      NaN\n",
       "4397   ubXf6EK      NaN  RXURMDY     5eCd      NaN\n",
       "30905      NaN      NaN  UdrGNf4     5eCd      NaN\n",
       "9410       NaN      NaN  Udrwr9F     zSxe      NaN"
      ]
     },
     "execution_count": 10,
     "metadata": {},
     "output_type": "execute_result"
    }
   ],
   "source": [
    "cols = int_cols[int_cols.index > 14740].tolist()\n",
    "sl = hp.sample_dataframe(df[cols], 15, 5)\n",
    "sl"
   ]
  },
  {
   "cell_type": "markdown",
   "id": "08bce9c7-b0fa-4900-aadf-188f463468ab",
   "metadata": {},
   "source": [
    "...and the rest of the columns should be numerical:"
   ]
  },
  {
   "cell_type": "code",
   "execution_count": 11,
   "id": "8b4a7457-57f5-405b-b728-6c82d132ad69",
   "metadata": {},
   "outputs": [
    {
     "data": {
      "text/html": [
       "<div>\n",
       "<style scoped>\n",
       "    .dataframe tbody tr th:only-of-type {\n",
       "        vertical-align: middle;\n",
       "    }\n",
       "\n",
       "    .dataframe tbody tr th {\n",
       "        vertical-align: top;\n",
       "    }\n",
       "\n",
       "    .dataframe thead th {\n",
       "        text-align: right;\n",
       "    }\n",
       "</style>\n",
       "<table border=\"1\" class=\"dataframe\">\n",
       "  <thead>\n",
       "    <tr style=\"text-align: right;\">\n",
       "      <th></th>\n",
       "      <th>var5150</th>\n",
       "      <th>var13069</th>\n",
       "      <th>var4768</th>\n",
       "      <th>var7537</th>\n",
       "      <th>var4841</th>\n",
       "    </tr>\n",
       "  </thead>\n",
       "  <tbody>\n",
       "    <tr>\n",
       "      <th>357</th>\n",
       "      <td>0</td>\n",
       "      <td>9</td>\n",
       "      <td>0</td>\n",
       "      <td>0</td>\n",
       "      <td>0</td>\n",
       "    </tr>\n",
       "    <tr>\n",
       "      <th>11896</th>\n",
       "      <td>0</td>\n",
       "      <td>0</td>\n",
       "      <td>0</td>\n",
       "      <td>0</td>\n",
       "      <td>0</td>\n",
       "    </tr>\n",
       "    <tr>\n",
       "      <th>16706</th>\n",
       "      <td>0</td>\n",
       "      <td>0</td>\n",
       "      <td>0</td>\n",
       "      <td>0</td>\n",
       "      <td>0</td>\n",
       "    </tr>\n",
       "    <tr>\n",
       "      <th>26813</th>\n",
       "      <td>0</td>\n",
       "      <td>0</td>\n",
       "      <td>0</td>\n",
       "      <td>0</td>\n",
       "      <td>0</td>\n",
       "    </tr>\n",
       "    <tr>\n",
       "      <th>32919</th>\n",
       "      <td>0</td>\n",
       "      <td>0</td>\n",
       "      <td>0</td>\n",
       "      <td>0</td>\n",
       "      <td>0</td>\n",
       "    </tr>\n",
       "    <tr>\n",
       "      <th>12415</th>\n",
       "      <td>0</td>\n",
       "      <td>0</td>\n",
       "      <td>0</td>\n",
       "      <td>0</td>\n",
       "      <td>0</td>\n",
       "    </tr>\n",
       "    <tr>\n",
       "      <th>38569</th>\n",
       "      <td>0</td>\n",
       "      <td>0</td>\n",
       "      <td>0</td>\n",
       "      <td>0</td>\n",
       "      <td>0</td>\n",
       "    </tr>\n",
       "    <tr>\n",
       "      <th>29636</th>\n",
       "      <td>0</td>\n",
       "      <td>0</td>\n",
       "      <td>0</td>\n",
       "      <td>0</td>\n",
       "      <td>0</td>\n",
       "    </tr>\n",
       "    <tr>\n",
       "      <th>12647</th>\n",
       "      <td>0</td>\n",
       "      <td>0</td>\n",
       "      <td>0</td>\n",
       "      <td>0</td>\n",
       "      <td>0</td>\n",
       "    </tr>\n",
       "    <tr>\n",
       "      <th>1415</th>\n",
       "      <td>0</td>\n",
       "      <td>0</td>\n",
       "      <td>0</td>\n",
       "      <td>0</td>\n",
       "      <td>0</td>\n",
       "    </tr>\n",
       "    <tr>\n",
       "      <th>37742</th>\n",
       "      <td>0</td>\n",
       "      <td>0</td>\n",
       "      <td>0</td>\n",
       "      <td>0</td>\n",
       "      <td>0</td>\n",
       "    </tr>\n",
       "    <tr>\n",
       "      <th>11342</th>\n",
       "      <td>0</td>\n",
       "      <td>0</td>\n",
       "      <td>0</td>\n",
       "      <td>0</td>\n",
       "      <td>0</td>\n",
       "    </tr>\n",
       "    <tr>\n",
       "      <th>38493</th>\n",
       "      <td>0</td>\n",
       "      <td>0</td>\n",
       "      <td>0</td>\n",
       "      <td>0</td>\n",
       "      <td>0</td>\n",
       "    </tr>\n",
       "    <tr>\n",
       "      <th>7737</th>\n",
       "      <td>0</td>\n",
       "      <td>9</td>\n",
       "      <td>0</td>\n",
       "      <td>0</td>\n",
       "      <td>0</td>\n",
       "    </tr>\n",
       "    <tr>\n",
       "      <th>18584</th>\n",
       "      <td>0</td>\n",
       "      <td>0</td>\n",
       "      <td>0</td>\n",
       "      <td>0</td>\n",
       "      <td>0</td>\n",
       "    </tr>\n",
       "  </tbody>\n",
       "</table>\n",
       "</div>"
      ],
      "text/plain": [
       "      var5150 var13069 var4768 var7537 var4841\n",
       "357         0        9       0       0       0\n",
       "11896       0        0       0       0       0\n",
       "16706       0        0       0       0       0\n",
       "26813       0        0       0       0       0\n",
       "32919       0        0       0       0       0\n",
       "12415       0        0       0       0       0\n",
       "38569       0        0       0       0       0\n",
       "29636       0        0       0       0       0\n",
       "12647       0        0       0       0       0\n",
       "1415        0        0       0       0       0\n",
       "37742       0        0       0       0       0\n",
       "11342       0        0       0       0       0\n",
       "38493       0        0       0       0       0\n",
       "7737        0        9       0       0       0\n",
       "18584       0        0       0       0       0"
      ]
     },
     "execution_count": 11,
     "metadata": {},
     "output_type": "execute_result"
    }
   ],
   "source": [
    "numerical_cols = int_cols[int_cols.index <= 14740].tolist()\n",
    "sl = hp.sample_dataframe(df[numerical_cols], 15, 5)\n",
    "sl"
   ]
  },
  {
   "cell_type": "markdown",
   "id": "94664013-ed8c-42ef-b8bd-cbb1f15c037c",
   "metadata": {},
   "source": [
    "We can't inspect all of them, but it appears that these columns are numeric. Let's try to cast the other columns to `float`, but first we'll do it on a sample dataframe before trying on the very large dataframe:"
   ]
  },
  {
   "cell_type": "code",
   "execution_count": 12,
   "id": "7d494748-2c9d-4f1c-bac6-001db12e7a7a",
   "metadata": {},
   "outputs": [],
   "source": [
    "sl = hp.sample_dataframe(df[numerical_cols], 1000, 1000)"
   ]
  },
  {
   "cell_type": "code",
   "execution_count": 13,
   "id": "30d47fc6-743c-49d0-81b8-8a0f094fb906",
   "metadata": {},
   "outputs": [],
   "source": [
    "for col in [x for x in numerical_cols if x in sl.columns]:\n",
    "    sl[col] = sl[col].astype(float)"
   ]
  },
  {
   "cell_type": "markdown",
   "id": "ce36905b-bcb9-43f0-9711-99806c7fc7d9",
   "metadata": {},
   "source": [
    "...that worked, so we'll do it on `df` now:"
   ]
  },
  {
   "cell_type": "code",
   "execution_count": null,
   "id": "76ab30bd-d9fd-46a0-8288-1e148daa911d",
   "metadata": {},
   "outputs": [],
   "source": [
    "for col in numerical_cols + ['churn']:\n",
    "    try:\n",
    "        df[col] = df[col].astype(float)\n",
    "    except Exception as e:\n",
    "        print(f\"column='{col}'\")\n",
    "        raise e"
   ]
  },
  {
   "cell_type": "code",
   "execution_count": null,
   "id": "6950bd2c-40df-495d-abf0-56c76fec4eb4",
   "metadata": {},
   "outputs": [],
   "source": [
    "df.dtypes.value_counts()"
   ]
  },
  {
   "cell_type": "markdown",
   "id": "500cc3f1-bdcb-4737-8f1b-1b3749eacb65",
   "metadata": {},
   "source": [
    "# Set Binary Columns"
   ]
  },
  {
   "cell_type": "markdown",
   "id": "735481f0-8461-466a-b31e-c90f72553a83",
   "metadata": {},
   "source": [
    "If there are only two unique values, we'll convert this to a 0,1 bool column:"
   ]
  },
  {
   "cell_type": "code",
   "execution_count": null,
   "id": "5236e4e2-6919-40ef-859b-d09a805868a6",
   "metadata": {},
   "outputs": [],
   "source": [
    "bool_cols = df.columns[df.nunique() == 2]"
   ]
  },
  {
   "cell_type": "code",
   "execution_count": null,
   "id": "6d29114a-7612-45c4-9b5f-85b76a50cd79",
   "metadata": {},
   "outputs": [],
   "source": [
    "for col in bool_cols:\n",
    "    df[col] = pd.factorize(df[col])[0]"
   ]
  },
  {
   "cell_type": "markdown",
   "id": "cc9c518c-782b-481e-aadb-93032d3b8f7c",
   "metadata": {},
   "source": [
    "# Interpolate Null Values"
   ]
  },
  {
   "cell_type": "markdown",
   "id": "df4611ed-fcc1-4854-bfc8-e9624e9e126c",
   "metadata": {},
   "source": [
    "Now, we still have null values in columns that we need to deal with. Let's start with the numerical columns that aren't binary:"
   ]
  },
  {
   "cell_type": "code",
   "execution_count": null,
   "id": "980f8d5a-f6a1-4631-8df1-b7ebc3582960",
   "metadata": {},
   "outputs": [],
   "source": [
    "numerical_nonbool_cols = [x for x in numerical_cols if x not in bool_cols]\n",
    "len(numerical_nonbool_cols)"
   ]
  },
  {
   "cell_type": "markdown",
   "id": "253eef2e-f9c1-4c84-8500-5d07f0e3b7bb",
   "metadata": {},
   "source": [
    "...recalling that we know that `numerical_cols` are specifically numerical since we cast them that way. \n",
    "\n",
    "We'll do a simple mean interpolation for now:"
   ]
  },
  {
   "cell_type": "code",
   "execution_count": null,
   "id": "e24635ae-f3d1-4422-b766-454de38be058",
   "metadata": {},
   "outputs": [],
   "source": [
    "%%time\n",
    "for col in numerical_nonbool_cols:\n",
    "    df[col] = df[col].fillna(df[col].mean())"
   ]
  },
  {
   "cell_type": "code",
   "execution_count": null,
   "id": "848497c6-3f78-4c44-b2c3-e67cf2ee3e9e",
   "metadata": {},
   "outputs": [],
   "source": [
    "# we don't have any null values in numerical cols \n",
    "assert df[numerical_cols].isnull().sum().sum() == 0"
   ]
  },
  {
   "cell_type": "markdown",
   "id": "caa99a66-9605-4d88-895d-10a63261a500",
   "metadata": {},
   "source": [
    "We still have some categorical columns to deal with "
   ]
  },
  {
   "cell_type": "code",
   "execution_count": null,
   "id": "13390d63-5362-40d0-ad24-c45f7b0fea0f",
   "metadata": {},
   "outputs": [],
   "source": [
    "string_nonbool_cols = [x for x in df.columns if x not in numerical_cols and x not in bool_cols]\n",
    "len(string_nonbool_cols)"
   ]
  },
  {
   "cell_type": "code",
   "execution_count": null,
   "id": "bb259f4d-e7b0-4cd9-afda-9533ada7ef54",
   "metadata": {},
   "outputs": [],
   "source": [
    "# display number of null values\n",
    "df[string_nonbool_cols].isnull().sum().sum()"
   ]
  },
  {
   "cell_type": "code",
   "execution_count": null,
   "id": "e6659461-e81f-4fc7-9bdb-0f29f78776ea",
   "metadata": {},
   "outputs": [],
   "source": [
    "for col in string_nonbool_cols:\n",
    "    df[col] = pd.factorize(df[col])[0]"
   ]
  },
  {
   "cell_type": "code",
   "execution_count": null,
   "id": "9413697a-778e-4c42-b72c-819cf0d4e6e5",
   "metadata": {},
   "outputs": [],
   "source": [
    "# display number of null values\n",
    "assert df[string_nonbool_cols].isnull().sum().sum() == 0"
   ]
  },
  {
   "cell_type": "markdown",
   "id": "36bd8c8b-b16d-45c1-8cb6-4388b8b7a48e",
   "metadata": {},
   "source": [
    "Now, we notice that some of the categorical columns have a very large number of categorical values:"
   ]
  },
  {
   "cell_type": "code",
   "execution_count": null,
   "id": "4ac73dcb-c6ae-4873-9852-2d7e223e4d18",
   "metadata": {},
   "outputs": [],
   "source": [
    "x = df['var14868'].value_counts()\n",
    "len(x)"
   ]
  },
  {
   "cell_type": "markdown",
   "id": "dbc5b1ae-789a-418d-a286-521323aafa98",
   "metadata": {},
   "source": [
    "this won't really work very well, so let's use frequency encoding for these columns"
   ]
  },
  {
   "cell_type": "code",
   "execution_count": null,
   "id": "bc2d40a3-7c4e-4628-a0ca-b32074be7aaf",
   "metadata": {},
   "outputs": [],
   "source": [
    "high_cardn_cols = []\n",
    "for col in string_nonbool_cols:\n",
    "    vc = df[col].value_counts()\n",
    "    if len(vc) > 10:\n",
    "        high_cardn_cols.append(col)\n",
    "len(high_cardn_cols)"
   ]
  },
  {
   "cell_type": "code",
   "execution_count": null,
   "id": "437299c0-2a75-4feb-84e9-8f672bad7d42",
   "metadata": {},
   "outputs": [],
   "source": [
    "for col in high_cardn_cols:\n",
    "    vc = df[col].value_counts()\n",
    "    vc = vc / vc.sum()\n",
    "    df[col] = df[col].map(vc)"
   ]
  },
  {
   "cell_type": "code",
   "execution_count": null,
   "id": "6c2d478e-94d7-4ed6-8b71-ff21c0fc8939",
   "metadata": {},
   "outputs": [],
   "source": [
    "sl = hp.sample_dataframe(df[high_cardn_cols], 15, 5)\n",
    "sl"
   ]
  },
  {
   "cell_type": "code",
   "execution_count": null,
   "id": "03005611-6ca9-4d6f-adc9-c447c3bb8433",
   "metadata": {},
   "outputs": [],
   "source": [
    "# list any string columns\n",
    "x = df.dtypes\n",
    "x[x == 'object']"
   ]
  },
  {
   "cell_type": "code",
   "execution_count": null,
   "id": "9d21d622-c1ce-4860-9b72-93a73e697fb9",
   "metadata": {},
   "outputs": [],
   "source": [
    "# check that there aren't any more missing values\n",
    "assert not df.isnull().sum().sum()"
   ]
  },
  {
   "cell_type": "markdown",
   "id": "93973df4-b4d5-4919-9986-e260e1417c0f",
   "metadata": {},
   "source": [
    "# Archive Dataframe\n",
    "\n",
    "Now that there aren't any missing values and we've set our data types, we can archive the dataframe."
   ]
  },
  {
   "cell_type": "code",
   "execution_count": null,
   "id": "6ce7cdd5-4028-46b4-b394-87c0ed655279",
   "metadata": {},
   "outputs": [],
   "source": [
    "df.to_parquet('../data/interim/interim-data.parquet')"
   ]
  },
  {
   "cell_type": "code",
   "execution_count": null,
   "id": "6e663a04-3c8a-4282-bfee-e386a682fa3c",
   "metadata": {},
   "outputs": [],
   "source": []
  }
 ],
 "metadata": {
  "kernelspec": {
   "display_name": "Python 3 (ipykernel)",
   "language": "python",
   "name": "python3"
  },
  "language_info": {
   "codemirror_mode": {
    "name": "ipython",
    "version": 3
   },
   "file_extension": ".py",
   "mimetype": "text/x-python",
   "name": "python",
   "nbconvert_exporter": "python",
   "pygments_lexer": "ipython3",
   "version": "3.10.14"
  }
 },
 "nbformat": 4,
 "nbformat_minor": 5
}
