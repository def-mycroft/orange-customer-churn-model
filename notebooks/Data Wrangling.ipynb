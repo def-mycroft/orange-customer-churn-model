{
 "cells": [
  {
   "cell_type": "code",
   "execution_count": 1,
   "id": "b4417523-b962-44f1-94cb-255a8c5ec6f9",
   "metadata": {},
   "outputs": [
    {
     "name": "stderr",
     "output_type": "stream",
     "text": [
      "\u001b[32m2024-09-17 07:08:59.676\u001b[0m | \u001b[1mINFO    \u001b[0m | \u001b[36mzero_churn_model.config\u001b[0m:\u001b[36m<module>\u001b[0m:\u001b[36m11\u001b[0m - \u001b[1mPROJ_ROOT path is: /home/zero/code-repos/zero_churn_model\u001b[0m\n"
     ]
    }
   ],
   "source": [
    "from zero_churn_model.imports import * # basic imports\n",
    "from zero_churn_model import helpers as hp\n",
    "from tqdm import tqdm\n",
    "from time import time \n",
    "from sklearn.preprocessing import OneHotEncoder\n",
    "from sklearn.compose import ColumnTransformer"
   ]
  },
  {
   "cell_type": "markdown",
   "id": "49d4ddc1-2edc-4a1a-83ae-d3e6e4f60e6d",
   "metadata": {},
   "source": [
    "# Dataset Description"
   ]
  },
  {
   "cell_type": "markdown",
   "id": "b2f13177-fdbb-4418-86af-fd651401f8e5",
   "metadata": {},
   "source": [
    "\n",
    "[link here](https://www.openml.org/search?type=data&sort=runs&status=active&qualities.NumberOfInstances=between_10000_100000&qualities.NumberOfFeatures=between_100_1000&id=42758)\n",
    "\n",
    "**Description**\n",
    "\n",
    "This is the full version of the KDD Cup 2009 dataset\n",
    "\n",
    "This Year's Challenge\n",
    "\n",
    "Customer Relationship Management (CRM) is a key element of modern marketing strategies. The KDD Cup 2009 offers the opportunity to work on large marketing databases from the French Telecom company Orange to predict the propensity of customers to switch provider (churn), buy new products or services (appetency), or buy upgrades or add-ons proposed to them to make the sale more profitable (up-selling).\n",
    "\n",
    "The most practical way, in a CRM system, to build knowledge on customer is to produce scores. A score (the output of a model) is an evaluation for all instances of a target variable to explain (i.e. churn, appetency or up-selling). Tools which produce scores allow to project, on a given population, quantifiable information. The score is computed using input variables which describe instances. Scores are then used by the information system (IS), for example, to personalize the customer relationship. An industrial customer analysis platform able to build prediction models with a very large number of input variables has been developed by Orange Labs. This platform implements several processing methods for instances and variables selection, prediction and indexation based on an efficient model combined with variable selection regularization and model averaging method. The main characteristic of this platform is its ability to scale on very large datasets with hundreds of thousands of instances and thousands of variables. The rapid and robust detection of the variables that have most contributed to the output prediction can be a key factor in a marketing application.\n",
    "\n",
    "The challenge is to beat the in-house system developed by Orange Labs. It is an opportunity to prove that you can deal with a very large database, including heterogeneous noisy data (numerical and categorical variables), and unbalanced class distributions. Time efficiency is often a crucial point. Therefore part of the competition will be time-constrained to test the ability of the participants to deliver solutions quickly.\n",
    "\n",
    "Task Description\n",
    "\n",
    "The task is to estimate the churn, appetency and up-selling probability of customers, hence there are three target values to be predicted. The challenge is staged in phases to test the rapidity with which each team is able to produce results. A large number of variables (15,000) is made available for prediction. However, to engage participants having access to less computing power, a smaller version of the dataset with only 230 variables will be made available in the second part of the challenge.\n",
    "\n",
    "Churn (wikipedia definition): Churn rate is also sometimes called attrition rate. It is one of two primary factors that determine the steady-state level of customers a business will support. In its broadest sense, churn rate is a measure of the number of individuals or items moving into or out of a collection over a specific period of time. The term is used in many contexts, but is most widely applied in business with respect to a contractual customer base. For instance, it is an important factor for any business with a subscriber-based service model, including mobile telephone networks and pay TV operators. The term is also used to refer to participant turnover in peer-to-peer networks.\n",
    "\n",
    "Appetency: In our context, the appetency is the propensity to buy a service or a product.\n",
    "\n",
    "Up-selling (wikipedia definition): Up-selling is a sales technique whereby a salesman attempts to have the customer purchase more expensive items, upgrades, or other add-ons in an attempt to make a more profitable sale. Up-selling usually involves marketing more profitable services or products, but up-selling can also be simply exposing the customer to other options he or she may not have considered previously. Up-selling can imply selling something additional, or selling something that is more profitable or otherwise preferable for the seller instead of the original sale.\n",
    "\n",
    "The training set contains 50,000 examples. The first predictive 14,740 variables are numerical and the last 260 predictive variables are categorical. The last target variable is binary (-1,1).\n"
   ]
  },
  {
   "cell_type": "markdown",
   "id": "e9955b35-d126-4ba7-b1ee-fe716ee5f482",
   "metadata": {},
   "source": [
    "# Load Base Data"
   ]
  },
  {
   "cell_type": "code",
   "execution_count": 2,
   "id": "2fbecf3a-f88c-43d9-829b-520280df3be9",
   "metadata": {},
   "outputs": [
    {
     "name": "stdout",
     "output_type": "stream",
     "text": [
      "(50000, 15001)\n"
     ]
    },
    {
     "data": {
      "text/html": [
       "<div>\n",
       "<style scoped>\n",
       "    .dataframe tbody tr th:only-of-type {\n",
       "        vertical-align: middle;\n",
       "    }\n",
       "\n",
       "    .dataframe tbody tr th {\n",
       "        vertical-align: top;\n",
       "    }\n",
       "\n",
       "    .dataframe thead th {\n",
       "        text-align: right;\n",
       "    }\n",
       "</style>\n",
       "<table border=\"1\" class=\"dataframe\">\n",
       "  <thead>\n",
       "    <tr style=\"text-align: right;\">\n",
       "      <th></th>\n",
       "      <th>churn</th>\n",
       "      <th>var1</th>\n",
       "      <th>var2</th>\n",
       "      <th>var3</th>\n",
       "      <th>var4</th>\n",
       "      <th>var5</th>\n",
       "      <th>var6</th>\n",
       "      <th>var7</th>\n",
       "      <th>var8</th>\n",
       "      <th>var9</th>\n",
       "      <th>...</th>\n",
       "      <th>var14991</th>\n",
       "      <th>var14992</th>\n",
       "      <th>var14993</th>\n",
       "      <th>var14994</th>\n",
       "      <th>var14995</th>\n",
       "      <th>var14996</th>\n",
       "      <th>var14997</th>\n",
       "      <th>var14998</th>\n",
       "      <th>var14999</th>\n",
       "      <th>var15000</th>\n",
       "    </tr>\n",
       "  </thead>\n",
       "  <tbody>\n",
       "    <tr>\n",
       "      <th>44092</th>\n",
       "      <td>-1</td>\n",
       "      <td>0</td>\n",
       "      <td>0</td>\n",
       "      <td>0</td>\n",
       "      <td>0</td>\n",
       "      <td>0</td>\n",
       "      <td>0</td>\n",
       "      <td>0.0</td>\n",
       "      <td>0</td>\n",
       "      <td>0</td>\n",
       "      <td>...</td>\n",
       "      <td>?</td>\n",
       "      <td>?</td>\n",
       "      <td>00vNJRF</td>\n",
       "      <td>?</td>\n",
       "      <td>Q8_a</td>\n",
       "      <td>NBRvrWWx0Z</td>\n",
       "      <td>?</td>\n",
       "      <td>GD6M5hO</td>\n",
       "      <td>?</td>\n",
       "      <td>?</td>\n",
       "    </tr>\n",
       "    <tr>\n",
       "      <th>18992</th>\n",
       "      <td>-1</td>\n",
       "      <td>0</td>\n",
       "      <td>0</td>\n",
       "      <td>0</td>\n",
       "      <td>0</td>\n",
       "      <td>0</td>\n",
       "      <td>0</td>\n",
       "      <td>0.0</td>\n",
       "      <td>0</td>\n",
       "      <td>0</td>\n",
       "      <td>...</td>\n",
       "      <td>?</td>\n",
       "      <td>?</td>\n",
       "      <td>1CTHCOe</td>\n",
       "      <td>?</td>\n",
       "      <td>KttQ</td>\n",
       "      <td>?</td>\n",
       "      <td>?</td>\n",
       "      <td>?</td>\n",
       "      <td>?</td>\n",
       "      <td>?</td>\n",
       "    </tr>\n",
       "    <tr>\n",
       "      <th>9419</th>\n",
       "      <td>-1</td>\n",
       "      <td>0</td>\n",
       "      <td>0</td>\n",
       "      <td>0</td>\n",
       "      <td>0</td>\n",
       "      <td>0</td>\n",
       "      <td>0</td>\n",
       "      <td>0.0</td>\n",
       "      <td>0</td>\n",
       "      <td>0</td>\n",
       "      <td>...</td>\n",
       "      <td>?</td>\n",
       "      <td>?</td>\n",
       "      <td>wmtmcoL</td>\n",
       "      <td>?</td>\n",
       "      <td>Q8_a</td>\n",
       "      <td>NBRvrWWx0Z</td>\n",
       "      <td>?</td>\n",
       "      <td>GD6M5hO</td>\n",
       "      <td>?</td>\n",
       "      <td>?</td>\n",
       "    </tr>\n",
       "    <tr>\n",
       "      <th>10465</th>\n",
       "      <td>-1</td>\n",
       "      <td>0</td>\n",
       "      <td>0</td>\n",
       "      <td>0</td>\n",
       "      <td>0</td>\n",
       "      <td>0</td>\n",
       "      <td>0</td>\n",
       "      <td>1.28</td>\n",
       "      <td>0</td>\n",
       "      <td>0</td>\n",
       "      <td>...</td>\n",
       "      <td>?</td>\n",
       "      <td>?</td>\n",
       "      <td>ie14S43</td>\n",
       "      <td>?</td>\n",
       "      <td>KttQ</td>\n",
       "      <td>NBRvrWWx0Z</td>\n",
       "      <td>?</td>\n",
       "      <td>?</td>\n",
       "      <td>?</td>\n",
       "      <td>?</td>\n",
       "    </tr>\n",
       "    <tr>\n",
       "      <th>12609</th>\n",
       "      <td>-1</td>\n",
       "      <td>0</td>\n",
       "      <td>0</td>\n",
       "      <td>0</td>\n",
       "      <td>0</td>\n",
       "      <td>0</td>\n",
       "      <td>0</td>\n",
       "      <td>0.0</td>\n",
       "      <td>0</td>\n",
       "      <td>0</td>\n",
       "      <td>...</td>\n",
       "      <td>?</td>\n",
       "      <td>?</td>\n",
       "      <td>DUCWJeJ</td>\n",
       "      <td>?</td>\n",
       "      <td>KttQ</td>\n",
       "      <td>?</td>\n",
       "      <td>?</td>\n",
       "      <td>?</td>\n",
       "      <td>?</td>\n",
       "      <td>?</td>\n",
       "    </tr>\n",
       "  </tbody>\n",
       "</table>\n",
       "<p>5 rows × 15001 columns</p>\n",
       "</div>"
      ],
      "text/plain": [
       "      churn var1 var2 var3 var4 var5 var6  var7 var8 var9  ... var14991  \\\n",
       "44092    -1    0    0    0    0    0    0   0.0    0    0  ...        ?   \n",
       "18992    -1    0    0    0    0    0    0   0.0    0    0  ...        ?   \n",
       "9419     -1    0    0    0    0    0    0   0.0    0    0  ...        ?   \n",
       "10465    -1    0    0    0    0    0    0  1.28    0    0  ...        ?   \n",
       "12609    -1    0    0    0    0    0    0   0.0    0    0  ...        ?   \n",
       "\n",
       "      var14992 var14993 var14994 var14995    var14996 var14997 var14998  \\\n",
       "44092        ?  00vNJRF        ?     Q8_a  NBRvrWWx0Z        ?  GD6M5hO   \n",
       "18992        ?  1CTHCOe        ?     KttQ           ?        ?        ?   \n",
       "9419         ?  wmtmcoL        ?     Q8_a  NBRvrWWx0Z        ?  GD6M5hO   \n",
       "10465        ?  ie14S43        ?     KttQ  NBRvrWWx0Z        ?        ?   \n",
       "12609        ?  DUCWJeJ        ?     KttQ           ?        ?        ?   \n",
       "\n",
       "      var14999 var15000  \n",
       "44092        ?        ?  \n",
       "18992        ?        ?  \n",
       "9419         ?        ?  \n",
       "10465        ?        ?  \n",
       "12609        ?        ?  \n",
       "\n",
       "[5 rows x 15001 columns]"
      ]
     },
     "execution_count": 2,
     "metadata": {},
     "output_type": "execute_result"
    }
   ],
   "source": [
    "fp = '../data/raw/kddcup09-orange-telcom-data.parquet'\n",
    "\n",
    "# load base data and create a copy of it for \n",
    "df = pd.read_parquet(fp)\n",
    "\n",
    "df.columns = [x.lower() for x in df.columns]\n",
    "df = df[['churn'] + [x for x in df.columns if x != 'churn']]\n",
    "print(df.shape)\n",
    "df.sample(5)"
   ]
  },
  {
   "cell_type": "markdown",
   "id": "37a37f03-f86c-475b-8fed-6dafc5ab8e2f",
   "metadata": {},
   "source": [
    "# Drop Columns with One Unique Value"
   ]
  },
  {
   "cell_type": "markdown",
   "id": "f979dcea-36bd-45eb-b854-c199e31c904e",
   "metadata": {},
   "source": [
    "There are some columns which contain only the same value throughout the entire column:"
   ]
  },
  {
   "cell_type": "code",
   "execution_count": 3,
   "id": "fb0fd79a-1862-48a1-bed9-b3bb3c0cb9f8",
   "metadata": {},
   "outputs": [
    {
     "data": {
      "text/plain": [
       "1531"
      ]
     },
     "execution_count": 3,
     "metadata": {},
     "output_type": "execute_result"
    }
   ],
   "source": [
    "# create a list of columns that have only one unique value\n",
    "drop_cols = df.columns[df.nunique() == 1]\n",
    "len(drop_cols)"
   ]
  },
  {
   "cell_type": "markdown",
   "id": "c6894812-19d6-493a-bf25-f87422f461d7",
   "metadata": {},
   "source": [
    "...since these columns don't contain any information, we can drop them:"
   ]
  },
  {
   "cell_type": "code",
   "execution_count": 4,
   "id": "1173197c-b3d0-4584-a92a-cea28d8adf4a",
   "metadata": {},
   "outputs": [],
   "source": [
    "# drop columns that have only one unique value \n",
    "df = df.drop(columns=drop_cols)"
   ]
  },
  {
   "cell_type": "markdown",
   "id": "4c6ade60-07a8-41e1-936e-417ecd190e4e",
   "metadata": {},
   "source": [
    "# Replace \"?\" with Null"
   ]
  },
  {
   "cell_type": "markdown",
   "id": "b4c2d5a3-affd-4761-96e7-3ce528f6b972",
   "metadata": {},
   "source": [
    "Some columns have a mix of question marks and floats:"
   ]
  },
  {
   "cell_type": "code",
   "execution_count": 5,
   "id": "52927116-0c76-4be8-a523-3ea047b285f2",
   "metadata": {},
   "outputs": [
    {
     "data": {
      "text/plain": [
       "975    0.4\n",
       "976    0.4\n",
       "977    0.4\n",
       "978    0.4\n",
       "979    0.4\n",
       "980      ?\n",
       "981    0.4\n",
       "982    0.4\n",
       "983    0.4\n",
       "984      ?\n",
       "985    0.4\n",
       "Name: var1176, dtype: object"
      ]
     },
     "execution_count": 5,
     "metadata": {},
     "output_type": "execute_result"
    }
   ],
   "source": [
    "# show an example of a float column with ?\n",
    "df.loc[975:985, 'var1176']"
   ]
  },
  {
   "cell_type": "markdown",
   "id": "e270af67-2ccb-4af4-8d81-4070b106fcaf",
   "metadata": {},
   "source": [
    "We can treat these \"?\" values as null values:"
   ]
  },
  {
   "cell_type": "code",
   "execution_count": 6,
   "id": "ba80fb6d-ac09-4354-b427-9e1d3aeaff6c",
   "metadata": {},
   "outputs": [],
   "source": [
    "# replace \"?\" values in the dataframe with np.nan\n",
    "df = df.replace('?', np.nan)"
   ]
  },
  {
   "cell_type": "markdown",
   "id": "13bc43ed-5909-477d-ba4e-b800667e7bdf",
   "metadata": {},
   "source": [
    "# Set Data Types"
   ]
  },
  {
   "cell_type": "markdown",
   "id": "e72df2eb-97c0-4bd9-8406-f0a117b9d310",
   "metadata": {},
   "source": [
    "Now, note that we have only `object` dtypes:"
   ]
  },
  {
   "cell_type": "code",
   "execution_count": 7,
   "id": "c8a652e8-5d60-41fa-9224-d999a14e1028",
   "metadata": {},
   "outputs": [
    {
     "data": {
      "text/plain": [
       "Series([], dtype: object)"
      ]
     },
     "execution_count": 7,
     "metadata": {},
     "output_type": "execute_result"
    }
   ],
   "source": [
    "# print any columns that are not `object` dtypes (string)\n",
    "dt = df.dtypes\n",
    "dt[dt != 'object']"
   ]
  },
  {
   "cell_type": "markdown",
   "id": "1752d045-47b1-4690-ad5c-8616be50a074",
   "metadata": {},
   "source": [
    "We'll want to do some typecasting. According to the dataset documentation, \"the first predictive 14,740 variables are numerical and the last 260 predictive variables are categorical\", so we can use this to determine which columns are numerical:"
   ]
  },
  {
   "cell_type": "code",
   "execution_count": 8,
   "id": "b173c427-dbfc-44de-87ba-782bb5542595",
   "metadata": {},
   "outputs": [
    {
     "data": {
      "text/plain": [
       "2            var1\n",
       "3            var2\n",
       "4            var3\n",
       "5            var4\n",
       "6            var5\n",
       "           ...   \n",
       "14996    var14995\n",
       "14997    var14996\n",
       "14998    var14997\n",
       "14999    var14998\n",
       "15000    var14999\n",
       "Length: 13469, dtype: object"
      ]
     },
     "execution_count": 8,
     "metadata": {},
     "output_type": "execute_result"
    }
   ],
   "source": [
    "colmap = dict([(int(x.replace('var', ''))+1, x) for x in df.columns if x != 'churn'])\n",
    "int_cols = pd.Series(colmap)\n",
    "int_cols"
   ]
  },
  {
   "cell_type": "markdown",
   "id": "6129c88f-a9ff-4d0c-8618-3b7d0ddfe01a",
   "metadata": {},
   "source": [
    "I have a function `sample_dataframe` which samples both rows and columns:"
   ]
  },
  {
   "cell_type": "code",
   "execution_count": 9,
   "id": "f56de53f-5081-4238-8811-1a21a41bdebf",
   "metadata": {},
   "outputs": [
    {
     "data": {
      "text/markdown": [
       "```python\n",
       "def sample_dataframe(df, nrows=1000, ncols=1000):\n",
       "    \"\"\"Create a smaller dataframe for initial testing\"\"\"\n",
       "    # create a copy for temporary testing\n",
       "    sl = df.T.sample(ncols).T.sample(nrows).copy()\n",
       "\n",
       "    return sl\n",
       "\n",
       "```"
      ],
      "text/plain": [
       "<IPython.core.display.Markdown object>"
      ]
     },
     "metadata": {},
     "output_type": "display_data"
    }
   ],
   "source": [
    "hp.display_source(hp.sample_dataframe)"
   ]
  },
  {
   "cell_type": "markdown",
   "id": "2a970f65-033a-40b7-82d2-e9c6c1ac1223",
   "metadata": {},
   "source": [
    "Columns with values greater than 14,740 should be string columns:"
   ]
  },
  {
   "cell_type": "code",
   "execution_count": 10,
   "id": "f443c150-aaf8-4618-9dce-778997b81cb7",
   "metadata": {},
   "outputs": [
    {
     "data": {
      "text/html": [
       "<div>\n",
       "<style scoped>\n",
       "    .dataframe tbody tr th:only-of-type {\n",
       "        vertical-align: middle;\n",
       "    }\n",
       "\n",
       "    .dataframe tbody tr th {\n",
       "        vertical-align: top;\n",
       "    }\n",
       "\n",
       "    .dataframe thead th {\n",
       "        text-align: right;\n",
       "    }\n",
       "</style>\n",
       "<table border=\"1\" class=\"dataframe\">\n",
       "  <thead>\n",
       "    <tr style=\"text-align: right;\">\n",
       "      <th></th>\n",
       "      <th>var14989</th>\n",
       "      <th>var14952</th>\n",
       "      <th>var14894</th>\n",
       "      <th>var14997</th>\n",
       "      <th>var14805</th>\n",
       "    </tr>\n",
       "  </thead>\n",
       "  <tbody>\n",
       "    <tr>\n",
       "      <th>5629</th>\n",
       "      <td>w5gq</td>\n",
       "      <td>NaN</td>\n",
       "      <td>NaN</td>\n",
       "      <td>NaN</td>\n",
       "      <td>NaN</td>\n",
       "    </tr>\n",
       "    <tr>\n",
       "      <th>35623</th>\n",
       "      <td>w5gq</td>\n",
       "      <td>NaN</td>\n",
       "      <td>NaN</td>\n",
       "      <td>NaN</td>\n",
       "      <td>NaN</td>\n",
       "    </tr>\n",
       "    <tr>\n",
       "      <th>25461</th>\n",
       "      <td>w5gq</td>\n",
       "      <td>NaN</td>\n",
       "      <td>NaN</td>\n",
       "      <td>NaN</td>\n",
       "      <td>NaN</td>\n",
       "    </tr>\n",
       "    <tr>\n",
       "      <th>753</th>\n",
       "      <td>w5gq</td>\n",
       "      <td>NaN</td>\n",
       "      <td>NaN</td>\n",
       "      <td>NaN</td>\n",
       "      <td>NaN</td>\n",
       "    </tr>\n",
       "    <tr>\n",
       "      <th>19018</th>\n",
       "      <td>w5gq</td>\n",
       "      <td>NaN</td>\n",
       "      <td>NaN</td>\n",
       "      <td>NaN</td>\n",
       "      <td>NaN</td>\n",
       "    </tr>\n",
       "    <tr>\n",
       "      <th>34354</th>\n",
       "      <td>w5gq</td>\n",
       "      <td>NaN</td>\n",
       "      <td>NaN</td>\n",
       "      <td>NaN</td>\n",
       "      <td>NaN</td>\n",
       "    </tr>\n",
       "    <tr>\n",
       "      <th>5372</th>\n",
       "      <td>0tBF</td>\n",
       "      <td>NaN</td>\n",
       "      <td>rO8c</td>\n",
       "      <td>NaN</td>\n",
       "      <td>NaN</td>\n",
       "    </tr>\n",
       "    <tr>\n",
       "      <th>10885</th>\n",
       "      <td>w5gq</td>\n",
       "      <td>NaN</td>\n",
       "      <td>NaN</td>\n",
       "      <td>NaN</td>\n",
       "      <td>NaN</td>\n",
       "    </tr>\n",
       "    <tr>\n",
       "      <th>23974</th>\n",
       "      <td>w5gq</td>\n",
       "      <td>NaN</td>\n",
       "      <td>NaN</td>\n",
       "      <td>NaN</td>\n",
       "      <td>NaN</td>\n",
       "    </tr>\n",
       "    <tr>\n",
       "      <th>10141</th>\n",
       "      <td>w5gq</td>\n",
       "      <td>NaN</td>\n",
       "      <td>NaN</td>\n",
       "      <td>NaN</td>\n",
       "      <td>NaN</td>\n",
       "    </tr>\n",
       "    <tr>\n",
       "      <th>14025</th>\n",
       "      <td>w5gq</td>\n",
       "      <td>NaN</td>\n",
       "      <td>NaN</td>\n",
       "      <td>NaN</td>\n",
       "      <td>NaN</td>\n",
       "    </tr>\n",
       "    <tr>\n",
       "      <th>40981</th>\n",
       "      <td>w5gq</td>\n",
       "      <td>NaN</td>\n",
       "      <td>NaN</td>\n",
       "      <td>NaN</td>\n",
       "      <td>NaN</td>\n",
       "    </tr>\n",
       "    <tr>\n",
       "      <th>38738</th>\n",
       "      <td>w5gq</td>\n",
       "      <td>NaN</td>\n",
       "      <td>NaN</td>\n",
       "      <td>NaN</td>\n",
       "      <td>NaN</td>\n",
       "    </tr>\n",
       "    <tr>\n",
       "      <th>43765</th>\n",
       "      <td>w5gq</td>\n",
       "      <td>NaN</td>\n",
       "      <td>NaN</td>\n",
       "      <td>NaN</td>\n",
       "      <td>NaN</td>\n",
       "    </tr>\n",
       "    <tr>\n",
       "      <th>30485</th>\n",
       "      <td>w5gq</td>\n",
       "      <td>NaN</td>\n",
       "      <td>NaN</td>\n",
       "      <td>NaN</td>\n",
       "      <td>NaN</td>\n",
       "    </tr>\n",
       "  </tbody>\n",
       "</table>\n",
       "</div>"
      ],
      "text/plain": [
       "      var14989 var14952 var14894 var14997 var14805\n",
       "5629      w5gq      NaN      NaN      NaN      NaN\n",
       "35623     w5gq      NaN      NaN      NaN      NaN\n",
       "25461     w5gq      NaN      NaN      NaN      NaN\n",
       "753       w5gq      NaN      NaN      NaN      NaN\n",
       "19018     w5gq      NaN      NaN      NaN      NaN\n",
       "34354     w5gq      NaN      NaN      NaN      NaN\n",
       "5372      0tBF      NaN     rO8c      NaN      NaN\n",
       "10885     w5gq      NaN      NaN      NaN      NaN\n",
       "23974     w5gq      NaN      NaN      NaN      NaN\n",
       "10141     w5gq      NaN      NaN      NaN      NaN\n",
       "14025     w5gq      NaN      NaN      NaN      NaN\n",
       "40981     w5gq      NaN      NaN      NaN      NaN\n",
       "38738     w5gq      NaN      NaN      NaN      NaN\n",
       "43765     w5gq      NaN      NaN      NaN      NaN\n",
       "30485     w5gq      NaN      NaN      NaN      NaN"
      ]
     },
     "execution_count": 10,
     "metadata": {},
     "output_type": "execute_result"
    }
   ],
   "source": [
    "cols = int_cols[int_cols.index > 14740].tolist()\n",
    "sl = hp.sample_dataframe(df[cols], 15, 5)\n",
    "sl"
   ]
  },
  {
   "cell_type": "markdown",
   "id": "08bce9c7-b0fa-4900-aadf-188f463468ab",
   "metadata": {},
   "source": [
    "...and the rest of the columns should be numerical:"
   ]
  },
  {
   "cell_type": "code",
   "execution_count": 11,
   "id": "8b4a7457-57f5-405b-b728-6c82d132ad69",
   "metadata": {},
   "outputs": [
    {
     "data": {
      "text/html": [
       "<div>\n",
       "<style scoped>\n",
       "    .dataframe tbody tr th:only-of-type {\n",
       "        vertical-align: middle;\n",
       "    }\n",
       "\n",
       "    .dataframe tbody tr th {\n",
       "        vertical-align: top;\n",
       "    }\n",
       "\n",
       "    .dataframe thead th {\n",
       "        text-align: right;\n",
       "    }\n",
       "</style>\n",
       "<table border=\"1\" class=\"dataframe\">\n",
       "  <thead>\n",
       "    <tr style=\"text-align: right;\">\n",
       "      <th></th>\n",
       "      <th>var3103</th>\n",
       "      <th>var14199</th>\n",
       "      <th>var2849</th>\n",
       "      <th>var2806</th>\n",
       "      <th>var5519</th>\n",
       "    </tr>\n",
       "  </thead>\n",
       "  <tbody>\n",
       "    <tr>\n",
       "      <th>25203</th>\n",
       "      <td>0</td>\n",
       "      <td>0</td>\n",
       "      <td>30.33</td>\n",
       "      <td>0</td>\n",
       "      <td>0.0</td>\n",
       "    </tr>\n",
       "    <tr>\n",
       "      <th>24518</th>\n",
       "      <td>0</td>\n",
       "      <td>0</td>\n",
       "      <td>100.08</td>\n",
       "      <td>0</td>\n",
       "      <td>159066.0</td>\n",
       "    </tr>\n",
       "    <tr>\n",
       "      <th>15144</th>\n",
       "      <td>0</td>\n",
       "      <td>0</td>\n",
       "      <td>35.91</td>\n",
       "      <td>0</td>\n",
       "      <td>0.0</td>\n",
       "    </tr>\n",
       "    <tr>\n",
       "      <th>27979</th>\n",
       "      <td>0</td>\n",
       "      <td>0</td>\n",
       "      <td>161.25</td>\n",
       "      <td>0</td>\n",
       "      <td>29944400.0</td>\n",
       "    </tr>\n",
       "    <tr>\n",
       "      <th>932</th>\n",
       "      <td>0</td>\n",
       "      <td>0</td>\n",
       "      <td>15.36</td>\n",
       "      <td>0</td>\n",
       "      <td>0.0</td>\n",
       "    </tr>\n",
       "    <tr>\n",
       "      <th>13648</th>\n",
       "      <td>0</td>\n",
       "      <td>0</td>\n",
       "      <td>82.53</td>\n",
       "      <td>0</td>\n",
       "      <td>5932640.0</td>\n",
       "    </tr>\n",
       "    <tr>\n",
       "      <th>20499</th>\n",
       "      <td>0</td>\n",
       "      <td>0</td>\n",
       "      <td>80.01</td>\n",
       "      <td>0</td>\n",
       "      <td>263556.0</td>\n",
       "    </tr>\n",
       "    <tr>\n",
       "      <th>34676</th>\n",
       "      <td>0</td>\n",
       "      <td>0</td>\n",
       "      <td>32.61</td>\n",
       "      <td>0</td>\n",
       "      <td>8402040.0</td>\n",
       "    </tr>\n",
       "    <tr>\n",
       "      <th>12262</th>\n",
       "      <td>0</td>\n",
       "      <td>0</td>\n",
       "      <td>107.61</td>\n",
       "      <td>0</td>\n",
       "      <td>37918.0</td>\n",
       "    </tr>\n",
       "    <tr>\n",
       "      <th>5431</th>\n",
       "      <td>0</td>\n",
       "      <td>0</td>\n",
       "      <td>87.54</td>\n",
       "      <td>0</td>\n",
       "      <td>2504.0</td>\n",
       "    </tr>\n",
       "    <tr>\n",
       "      <th>38171</th>\n",
       "      <td>0</td>\n",
       "      <td>0</td>\n",
       "      <td>75.0</td>\n",
       "      <td>0</td>\n",
       "      <td>9172.0</td>\n",
       "    </tr>\n",
       "    <tr>\n",
       "      <th>25010</th>\n",
       "      <td>0</td>\n",
       "      <td>0</td>\n",
       "      <td>49.92</td>\n",
       "      <td>0</td>\n",
       "      <td>0.0</td>\n",
       "    </tr>\n",
       "    <tr>\n",
       "      <th>48007</th>\n",
       "      <td>0</td>\n",
       "      <td>0</td>\n",
       "      <td>0.0</td>\n",
       "      <td>0</td>\n",
       "      <td>0.0</td>\n",
       "    </tr>\n",
       "    <tr>\n",
       "      <th>13060</th>\n",
       "      <td>0</td>\n",
       "      <td>0</td>\n",
       "      <td>95.07</td>\n",
       "      <td>0</td>\n",
       "      <td>942770.0</td>\n",
       "    </tr>\n",
       "    <tr>\n",
       "      <th>34800</th>\n",
       "      <td>0</td>\n",
       "      <td>0</td>\n",
       "      <td>107.61</td>\n",
       "      <td>0</td>\n",
       "      <td>21028600.0</td>\n",
       "    </tr>\n",
       "  </tbody>\n",
       "</table>\n",
       "</div>"
      ],
      "text/plain": [
       "      var3103 var14199 var2849 var2806     var5519\n",
       "25203       0        0   30.33       0         0.0\n",
       "24518       0        0  100.08       0    159066.0\n",
       "15144       0        0   35.91       0         0.0\n",
       "27979       0        0  161.25       0  29944400.0\n",
       "932         0        0   15.36       0         0.0\n",
       "13648       0        0   82.53       0   5932640.0\n",
       "20499       0        0   80.01       0    263556.0\n",
       "34676       0        0   32.61       0   8402040.0\n",
       "12262       0        0  107.61       0     37918.0\n",
       "5431        0        0   87.54       0      2504.0\n",
       "38171       0        0    75.0       0      9172.0\n",
       "25010       0        0   49.92       0         0.0\n",
       "48007       0        0     0.0       0         0.0\n",
       "13060       0        0   95.07       0    942770.0\n",
       "34800       0        0  107.61       0  21028600.0"
      ]
     },
     "execution_count": 11,
     "metadata": {},
     "output_type": "execute_result"
    }
   ],
   "source": [
    "numerical_cols = int_cols[int_cols.index <= 14740].tolist()\n",
    "sl = hp.sample_dataframe(df[numerical_cols], 15, 5)\n",
    "sl"
   ]
  },
  {
   "cell_type": "markdown",
   "id": "94664013-ed8c-42ef-b8bd-cbb1f15c037c",
   "metadata": {},
   "source": [
    "We can't inspect all of them, but it appears that these columns are numeric. Let's try to cast the other columns to `float`, but first we'll do it on a sample dataframe before trying on the very large dataframe:"
   ]
  },
  {
   "cell_type": "code",
   "execution_count": 12,
   "id": "7d494748-2c9d-4f1c-bac6-001db12e7a7a",
   "metadata": {},
   "outputs": [],
   "source": [
    "sl = hp.sample_dataframe(df[numerical_cols], 1000, 1000)"
   ]
  },
  {
   "cell_type": "code",
   "execution_count": 13,
   "id": "30d47fc6-743c-49d0-81b8-8a0f094fb906",
   "metadata": {},
   "outputs": [],
   "source": [
    "for col in [x for x in numerical_cols if x in sl.columns]:\n",
    "    sl[col] = sl[col].astype(float)"
   ]
  },
  {
   "cell_type": "markdown",
   "id": "ce36905b-bcb9-43f0-9711-99806c7fc7d9",
   "metadata": {},
   "source": [
    "...that worked, so we'll do it on `df` now:"
   ]
  },
  {
   "cell_type": "code",
   "execution_count": 14,
   "id": "76ab30bd-d9fd-46a0-8288-1e148daa911d",
   "metadata": {},
   "outputs": [],
   "source": [
    "for col in numerical_cols + ['churn']:\n",
    "    try:\n",
    "        df[col] = df[col].astype(float)\n",
    "    except Exception as e:\n",
    "        print(f\"column='{col}'\")\n",
    "        raise e"
   ]
  },
  {
   "cell_type": "code",
   "execution_count": 15,
   "id": "6950bd2c-40df-495d-abf0-56c76fec4eb4",
   "metadata": {},
   "outputs": [
    {
     "data": {
      "text/plain": [
       "float64    13281\n",
       "object       189\n",
       "Name: count, dtype: int64"
      ]
     },
     "execution_count": 15,
     "metadata": {},
     "output_type": "execute_result"
    }
   ],
   "source": [
    "df.dtypes.value_counts()"
   ]
  },
  {
   "cell_type": "markdown",
   "id": "500cc3f1-bdcb-4737-8f1b-1b3749eacb65",
   "metadata": {},
   "source": [
    "# Set Binary Columns"
   ]
  },
  {
   "cell_type": "markdown",
   "id": "735481f0-8461-466a-b31e-c90f72553a83",
   "metadata": {},
   "source": [
    "If there are only two unique values, we'll convert this to a 0,1 bool column:"
   ]
  },
  {
   "cell_type": "code",
   "execution_count": 16,
   "id": "5236e4e2-6919-40ef-859b-d09a805868a6",
   "metadata": {},
   "outputs": [],
   "source": [
    "bool_cols = df.columns[df.nunique() == 2]"
   ]
  },
  {
   "cell_type": "code",
   "execution_count": 17,
   "id": "6d29114a-7612-45c4-9b5f-85b76a50cd79",
   "metadata": {},
   "outputs": [],
   "source": [
    "for col in bool_cols:\n",
    "    df[col] = pd.factorize(df[col])[0]"
   ]
  },
  {
   "cell_type": "markdown",
   "id": "cc9c518c-782b-481e-aadb-93032d3b8f7c",
   "metadata": {},
   "source": [
    "# Interpolate Null Values"
   ]
  },
  {
   "cell_type": "markdown",
   "id": "df4611ed-fcc1-4854-bfc8-e9624e9e126c",
   "metadata": {},
   "source": [
    "Now, we still have null values in columns that we need to deal with. Let's start with the numerical columns that aren't binary:"
   ]
  },
  {
   "cell_type": "code",
   "execution_count": 18,
   "id": "980f8d5a-f6a1-4631-8df1-b7ebc3582960",
   "metadata": {},
   "outputs": [
    {
     "data": {
      "text/plain": [
       "7530"
      ]
     },
     "execution_count": 18,
     "metadata": {},
     "output_type": "execute_result"
    }
   ],
   "source": [
    "numerical_nonbool_cols = [x for x in numerical_cols if x not in bool_cols]\n",
    "len(numerical_nonbool_cols)"
   ]
  },
  {
   "cell_type": "markdown",
   "id": "253eef2e-f9c1-4c84-8500-5d07f0e3b7bb",
   "metadata": {},
   "source": [
    "...recalling that we know that `numerical_cols` are specifically numerical since we cast them that way. \n",
    "\n",
    "We'll do a simple mean interpolation for now:"
   ]
  },
  {
   "cell_type": "code",
   "execution_count": 19,
   "id": "e24635ae-f3d1-4422-b766-454de38be058",
   "metadata": {},
   "outputs": [
    {
     "name": "stdout",
     "output_type": "stream",
     "text": [
      "CPU times: user 2.83 s, sys: 7.41 ms, total: 2.84 s\n",
      "Wall time: 2.84 s\n"
     ]
    }
   ],
   "source": [
    "%%time\n",
    "for col in numerical_nonbool_cols:\n",
    "    df[col] = df[col].fillna(df[col].mean())"
   ]
  },
  {
   "cell_type": "code",
   "execution_count": 20,
   "id": "848497c6-3f78-4c44-b2c3-e67cf2ee3e9e",
   "metadata": {},
   "outputs": [],
   "source": [
    "# we don't have any null values in numerical cols \n",
    "assert df[numerical_cols].isnull().sum().sum() == 0"
   ]
  },
  {
   "cell_type": "markdown",
   "id": "caa99a66-9605-4d88-895d-10a63261a500",
   "metadata": {},
   "source": [
    "We still have some categorical columns to deal with "
   ]
  },
  {
   "cell_type": "code",
   "execution_count": 21,
   "id": "13390d63-5362-40d0-ad24-c45f7b0fea0f",
   "metadata": {},
   "outputs": [
    {
     "data": {
      "text/plain": [
       "147"
      ]
     },
     "execution_count": 21,
     "metadata": {},
     "output_type": "execute_result"
    }
   ],
   "source": [
    "string_nonbool_cols = [x for x in df.columns if x not in numerical_cols and x not in bool_cols]\n",
    "len(string_nonbool_cols)"
   ]
  },
  {
   "cell_type": "code",
   "execution_count": 22,
   "id": "bb259f4d-e7b0-4cd9-afda-9533ada7ef54",
   "metadata": {},
   "outputs": [
    {
     "data": {
      "text/plain": [
       "5310575"
      ]
     },
     "execution_count": 22,
     "metadata": {},
     "output_type": "execute_result"
    }
   ],
   "source": [
    "# display number of null values\n",
    "df[string_nonbool_cols].isnull().sum().sum()"
   ]
  },
  {
   "cell_type": "code",
   "execution_count": 23,
   "id": "e6659461-e81f-4fc7-9bdb-0f29f78776ea",
   "metadata": {},
   "outputs": [],
   "source": [
    "for col in string_nonbool_cols:\n",
    "    df[col] = pd.factorize(df[col])[0]"
   ]
  },
  {
   "cell_type": "code",
   "execution_count": 24,
   "id": "9413697a-778e-4c42-b72c-819cf0d4e6e5",
   "metadata": {},
   "outputs": [],
   "source": [
    "# display number of null values\n",
    "assert df[string_nonbool_cols].isnull().sum().sum() == 0"
   ]
  },
  {
   "cell_type": "markdown",
   "id": "36bd8c8b-b16d-45c1-8cb6-4388b8b7a48e",
   "metadata": {},
   "source": [
    "Now, we notice that some of the categorical columns have a very large number of categorical values:"
   ]
  },
  {
   "cell_type": "code",
   "execution_count": 25,
   "id": "4ac73dcb-c6ae-4873-9852-2d7e223e4d18",
   "metadata": {},
   "outputs": [
    {
     "data": {
      "text/plain": [
       "15416"
      ]
     },
     "execution_count": 25,
     "metadata": {},
     "output_type": "execute_result"
    }
   ],
   "source": [
    "x = df['var14868'].value_counts()\n",
    "len(x)"
   ]
  },
  {
   "cell_type": "markdown",
   "id": "dbc5b1ae-789a-418d-a286-521323aafa98",
   "metadata": {},
   "source": [
    "this won't really work very well, so let's use frequency encoding for these columns"
   ]
  },
  {
   "cell_type": "code",
   "execution_count": 26,
   "id": "bc2d40a3-7c4e-4628-a0ca-b32074be7aaf",
   "metadata": {},
   "outputs": [
    {
     "data": {
      "text/plain": [
       "55"
      ]
     },
     "execution_count": 26,
     "metadata": {},
     "output_type": "execute_result"
    }
   ],
   "source": [
    "high_cardn_cols = []\n",
    "for col in string_nonbool_cols:\n",
    "    vc = df[col].value_counts()\n",
    "    if len(vc) > 10:\n",
    "        high_cardn_cols.append(col)\n",
    "len(high_cardn_cols)"
   ]
  },
  {
   "cell_type": "code",
   "execution_count": 27,
   "id": "437299c0-2a75-4feb-84e9-8f672bad7d42",
   "metadata": {},
   "outputs": [],
   "source": [
    "for col in high_cardn_cols:\n",
    "    vc = df[col].value_counts()\n",
    "    vc = vc / vc.sum()\n",
    "    df[col] = df[col].map(vc)"
   ]
  },
  {
   "cell_type": "code",
   "execution_count": 28,
   "id": "6c2d478e-94d7-4ed6-8b71-ff21c0fc8939",
   "metadata": {},
   "outputs": [
    {
     "data": {
      "text/html": [
       "<div>\n",
       "<style scoped>\n",
       "    .dataframe tbody tr th:only-of-type {\n",
       "        vertical-align: middle;\n",
       "    }\n",
       "\n",
       "    .dataframe tbody tr th {\n",
       "        vertical-align: top;\n",
       "    }\n",
       "\n",
       "    .dataframe thead th {\n",
       "        text-align: right;\n",
       "    }\n",
       "</style>\n",
       "<table border=\"1\" class=\"dataframe\">\n",
       "  <thead>\n",
       "    <tr style=\"text-align: right;\">\n",
       "      <th></th>\n",
       "      <th>var14859</th>\n",
       "      <th>var14770</th>\n",
       "      <th>var14797</th>\n",
       "      <th>var14893</th>\n",
       "      <th>var14761</th>\n",
       "    </tr>\n",
       "  </thead>\n",
       "  <tbody>\n",
       "    <tr>\n",
       "      <th>5172</th>\n",
       "      <td>0.06222</td>\n",
       "      <td>0.96914</td>\n",
       "      <td>0.02300</td>\n",
       "      <td>0.02300</td>\n",
       "      <td>0.97258</td>\n",
       "    </tr>\n",
       "    <tr>\n",
       "      <th>17652</th>\n",
       "      <td>0.86508</td>\n",
       "      <td>0.96914</td>\n",
       "      <td>0.00020</td>\n",
       "      <td>0.00020</td>\n",
       "      <td>0.97258</td>\n",
       "    </tr>\n",
       "    <tr>\n",
       "      <th>20382</th>\n",
       "      <td>0.86508</td>\n",
       "      <td>0.96914</td>\n",
       "      <td>0.00032</td>\n",
       "      <td>0.00032</td>\n",
       "      <td>0.97258</td>\n",
       "    </tr>\n",
       "    <tr>\n",
       "      <th>37053</th>\n",
       "      <td>0.86508</td>\n",
       "      <td>0.96914</td>\n",
       "      <td>0.00088</td>\n",
       "      <td>0.00088</td>\n",
       "      <td>0.97258</td>\n",
       "    </tr>\n",
       "    <tr>\n",
       "      <th>22795</th>\n",
       "      <td>0.86508</td>\n",
       "      <td>0.96914</td>\n",
       "      <td>0.00010</td>\n",
       "      <td>0.00010</td>\n",
       "      <td>0.97258</td>\n",
       "    </tr>\n",
       "    <tr>\n",
       "      <th>26366</th>\n",
       "      <td>0.06222</td>\n",
       "      <td>0.96914</td>\n",
       "      <td>0.08882</td>\n",
       "      <td>0.08882</td>\n",
       "      <td>0.97258</td>\n",
       "    </tr>\n",
       "    <tr>\n",
       "      <th>25808</th>\n",
       "      <td>0.86508</td>\n",
       "      <td>0.96914</td>\n",
       "      <td>0.08882</td>\n",
       "      <td>0.08882</td>\n",
       "      <td>0.97258</td>\n",
       "    </tr>\n",
       "    <tr>\n",
       "      <th>39515</th>\n",
       "      <td>0.06222</td>\n",
       "      <td>0.96914</td>\n",
       "      <td>0.08882</td>\n",
       "      <td>0.08882</td>\n",
       "      <td>0.97258</td>\n",
       "    </tr>\n",
       "    <tr>\n",
       "      <th>9346</th>\n",
       "      <td>0.86508</td>\n",
       "      <td>0.96914</td>\n",
       "      <td>0.00054</td>\n",
       "      <td>0.00054</td>\n",
       "      <td>0.97258</td>\n",
       "    </tr>\n",
       "    <tr>\n",
       "      <th>14620</th>\n",
       "      <td>0.04336</td>\n",
       "      <td>0.96914</td>\n",
       "      <td>0.00090</td>\n",
       "      <td>0.00090</td>\n",
       "      <td>0.97258</td>\n",
       "    </tr>\n",
       "    <tr>\n",
       "      <th>3348</th>\n",
       "      <td>0.86508</td>\n",
       "      <td>0.96914</td>\n",
       "      <td>0.00070</td>\n",
       "      <td>0.00070</td>\n",
       "      <td>0.97258</td>\n",
       "    </tr>\n",
       "    <tr>\n",
       "      <th>45901</th>\n",
       "      <td>0.86508</td>\n",
       "      <td>0.96914</td>\n",
       "      <td>0.00002</td>\n",
       "      <td>0.00002</td>\n",
       "      <td>0.97258</td>\n",
       "    </tr>\n",
       "    <tr>\n",
       "      <th>33739</th>\n",
       "      <td>0.86508</td>\n",
       "      <td>0.96914</td>\n",
       "      <td>0.00120</td>\n",
       "      <td>0.00120</td>\n",
       "      <td>0.97258</td>\n",
       "    </tr>\n",
       "    <tr>\n",
       "      <th>3320</th>\n",
       "      <td>0.86508</td>\n",
       "      <td>0.96914</td>\n",
       "      <td>0.00042</td>\n",
       "      <td>0.00042</td>\n",
       "      <td>0.97258</td>\n",
       "    </tr>\n",
       "    <tr>\n",
       "      <th>30114</th>\n",
       "      <td>0.86508</td>\n",
       "      <td>0.96914</td>\n",
       "      <td>0.00090</td>\n",
       "      <td>0.00090</td>\n",
       "      <td>0.97258</td>\n",
       "    </tr>\n",
       "  </tbody>\n",
       "</table>\n",
       "</div>"
      ],
      "text/plain": [
       "       var14859  var14770  var14797  var14893  var14761\n",
       "5172    0.06222   0.96914   0.02300   0.02300   0.97258\n",
       "17652   0.86508   0.96914   0.00020   0.00020   0.97258\n",
       "20382   0.86508   0.96914   0.00032   0.00032   0.97258\n",
       "37053   0.86508   0.96914   0.00088   0.00088   0.97258\n",
       "22795   0.86508   0.96914   0.00010   0.00010   0.97258\n",
       "26366   0.06222   0.96914   0.08882   0.08882   0.97258\n",
       "25808   0.86508   0.96914   0.08882   0.08882   0.97258\n",
       "39515   0.06222   0.96914   0.08882   0.08882   0.97258\n",
       "9346    0.86508   0.96914   0.00054   0.00054   0.97258\n",
       "14620   0.04336   0.96914   0.00090   0.00090   0.97258\n",
       "3348    0.86508   0.96914   0.00070   0.00070   0.97258\n",
       "45901   0.86508   0.96914   0.00002   0.00002   0.97258\n",
       "33739   0.86508   0.96914   0.00120   0.00120   0.97258\n",
       "3320    0.86508   0.96914   0.00042   0.00042   0.97258\n",
       "30114   0.86508   0.96914   0.00090   0.00090   0.97258"
      ]
     },
     "execution_count": 28,
     "metadata": {},
     "output_type": "execute_result"
    }
   ],
   "source": [
    "sl = hp.sample_dataframe(df[high_cardn_cols], 15, 5)\n",
    "sl"
   ]
  },
  {
   "cell_type": "code",
   "execution_count": 29,
   "id": "03005611-6ca9-4d6f-adc9-c447c3bb8433",
   "metadata": {},
   "outputs": [
    {
     "data": {
      "text/plain": [
       "Series([], dtype: object)"
      ]
     },
     "execution_count": 29,
     "metadata": {},
     "output_type": "execute_result"
    }
   ],
   "source": [
    "# list any string columns\n",
    "x = df.dtypes\n",
    "x[x == 'object']"
   ]
  },
  {
   "cell_type": "code",
   "execution_count": 30,
   "id": "9d21d622-c1ce-4860-9b72-93a73e697fb9",
   "metadata": {},
   "outputs": [],
   "source": [
    "# check that there aren't any more missing values\n",
    "assert not df.isnull().sum().sum()"
   ]
  },
  {
   "cell_type": "markdown",
   "id": "93973df4-b4d5-4919-9986-e260e1417c0f",
   "metadata": {},
   "source": [
    "# Archive Dataframe\n",
    "\n",
    "Now that there aren't any missing values and we've set our data types, we can archive the dataframe."
   ]
  },
  {
   "cell_type": "code",
   "execution_count": 31,
   "id": "6ce7cdd5-4028-46b4-b394-87c0ed655279",
   "metadata": {},
   "outputs": [],
   "source": [
    "df.to_parquet('../data/interim/interim-data.parquet')"
   ]
  }
 ],
 "metadata": {
  "kernelspec": {
   "display_name": "Python 3 (ipykernel)",
   "language": "python",
   "name": "python3"
  },
  "language_info": {
   "codemirror_mode": {
    "name": "ipython",
    "version": 3
   },
   "file_extension": ".py",
   "mimetype": "text/x-python",
   "name": "python",
   "nbconvert_exporter": "python",
   "pygments_lexer": "ipython3",
   "version": "3.12.2"
  }
 },
 "nbformat": 4,
 "nbformat_minor": 5
}
